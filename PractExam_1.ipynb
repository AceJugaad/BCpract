{
  "nbformat": 4,
  "nbformat_minor": 0,
  "metadata": {
    "colab": {
      "provenance": []
    },
    "kernelspec": {
      "name": "python3",
      "display_name": "Python 3"
    },
    "language_info": {
      "name": "python"
    }
  },
  "cells": [
    {
      "cell_type": "code",
      "execution_count": null,
      "metadata": {
        "colab": {
          "base_uri": "https://localhost:8080/"
        },
        "id": "9va5A1nK-wF7",
        "outputId": "70a0fb4a-9a95-475a-c795-3e1658a90149"
      },
      "outputs": [
        {
          "output_type": "stream",
          "name": "stdout",
          "text": [
            "Collecting pycryptodome\n",
            "  Downloading pycryptodome-3.18.0-cp35-abi3-manylinux_2_17_x86_64.manylinux2014_x86_64.whl (2.1 MB)\n",
            "\u001b[?25l     \u001b[90m━━━━━━━━━━━━━━━━━━━━━━━━━━━━━━━━━━━━━━━━\u001b[0m \u001b[32m0.0/2.1 MB\u001b[0m \u001b[31m?\u001b[0m eta \u001b[36m-:--:--\u001b[0m\r\u001b[2K     \u001b[91m━━━━━\u001b[0m\u001b[90m╺\u001b[0m\u001b[90m━━━━━━━━━━━━━━━━━━━━━━━━━━━━━━━━━━\u001b[0m \u001b[32m0.3/2.1 MB\u001b[0m \u001b[31m8.3 MB/s\u001b[0m eta \u001b[36m0:00:01\u001b[0m\r\u001b[2K     \u001b[91m━━━━━━━━━━━━━━━━━━━━━━━━━━━━━━━━━━━━━━━\u001b[0m\u001b[90m╺\u001b[0m \u001b[32m2.1/2.1 MB\u001b[0m \u001b[31m30.6 MB/s\u001b[0m eta \u001b[36m0:00:01\u001b[0m\r\u001b[2K     \u001b[90m━━━━━━━━━━━━━━━━━━━━━━━━━━━━━━━━━━━━━━━━\u001b[0m \u001b[32m2.1/2.1 MB\u001b[0m \u001b[31m24.4 MB/s\u001b[0m eta \u001b[36m0:00:00\u001b[0m\n",
            "\u001b[?25hInstalling collected packages: pycryptodome\n",
            "Successfully installed pycryptodome-3.18.0\n"
          ]
        }
      ],
      "source": [
        "pip install pycryptodome"
      ]
    },
    {
      "cell_type": "code",
      "source": [
        "import hashlib\n",
        "import random\n",
        "import string\n",
        "import json\n",
        "import binascii\n",
        "import numpy as np\n",
        "import pandas as pd\n",
        "import pylab as pl\n",
        "import logging\n",
        "import datetime\n",
        "import collections"
      ],
      "metadata": {
        "id": "JDpHTrZq-9aj"
      },
      "execution_count": null,
      "outputs": []
    },
    {
      "cell_type": "code",
      "source": [
        "import Crypto\n",
        "import Crypto.Random\n",
        "from Crypto.Hash import SHA\n",
        "from Crypto.PublicKey import RSA\n",
        "from Crypto.Signature import PKCS1_v1_5\n",
        "import binascii"
      ],
      "metadata": {
        "id": "szRF7tMy_A2R"
      },
      "execution_count": null,
      "outputs": []
    },
    {
      "cell_type": "code",
      "source": [
        "class Client:\n",
        "    def __init__(self):\n",
        "        random = Crypto.Random.new().read\n",
        "        self._private_key = RSA.generate(1024, random)\n",
        "        self._public_key = self._private_key.publickey()\n",
        "        self._signer = PKCS1_v1_5.new(self._private_key)\n",
        "\n",
        "    @property\n",
        "    def identity(self):\n",
        "        return binascii.hexlify(self._public_key.exportKey(format='DER')).decode('ascii')"
      ],
      "metadata": {
        "id": "UBjuDNTw_Eiv"
      },
      "execution_count": null,
      "outputs": []
    },
    {
      "cell_type": "code",
      "source": [
        "class Transaction:\n",
        " def __init__(self, sender, recipient, value):\n",
        "    self.sender = sender\n",
        "    self.recipient = recipient\n",
        "    self.value = value\n",
        "    self.time = datetime.datetime.now()\n",
        " def to_dict(self):\n",
        "    if self.sender == \"Genesis\":\n",
        "        identity = \"Genesis\"\n",
        "    else:\n",
        "        identity = self.sender.identity\n",
        "    return collections.OrderedDict({\n",
        "        'sender': identity,\n",
        "        'recipient': self.recipient,\n",
        "        'value': self.value,\n",
        "        'time' : self.time})\n",
        " def sign_transaction(self):\n",
        "    private_key = self.sender._private_key\n",
        "    signer = PKCS1_v1_5.new(private_key)\n",
        "    h = SHA.new(str(self.to_dict()).encode('utf8'))\n",
        "    return binascii.hexlify(signer.sign(h)).decode('ascii')\n",
        "Dinesh = Client()\n",
        "Ramesh = Client()\n",
        "t = Transaction(Dinesh,Ramesh.identity,5.0)\n",
        "signature = t.sign_transaction()\n",
        "print (signature)"
      ],
      "metadata": {
        "colab": {
          "base_uri": "https://localhost:8080/"
        },
        "id": "BY84EyMI_cwM",
        "outputId": "56ec32c4-30bb-4034-a429-d409abb3034c"
      },
      "execution_count": null,
      "outputs": [
        {
          "output_type": "stream",
          "name": "stdout",
          "text": [
            "314d7196b76d87eedefdf27d1cafa1c327aee27f9d7db92a3034d647177c9301b8adc8acf33c911b55b530c6bb7997765da1f80ddbf7b3a9816b98696ac486801f9935bbbe222033eda6a7dfa43116eeffe9d5c87cf1061518be9e211cbe9f358ced32955c36f60df7019cd4dc7d294ab6571769457d2a471affc5380e39d3c7\n"
          ]
        }
      ]
    },
    {
      "cell_type": "code",
      "source": [
        "def display_transaction(transaction):\n",
        " #for transaction in transactions:\n",
        " dict = transaction.to_dict()\n",
        " print (\"sender: \" + dict['sender'])\n",
        " print ('-----')\n",
        " print (\"recipient: \" + dict['recipient'])\n",
        " print ('-----')\n",
        " print (\"value: \" + str(dict['value']))\n",
        " print ('-----')\n",
        " print (\"time: \" + str(dict['time']))\n",
        " print ('-----')"
      ],
      "metadata": {
        "id": "i3GE-CvDANoo"
      },
      "execution_count": null,
      "outputs": []
    },
    {
      "cell_type": "code",
      "source": [
        "transactions = []"
      ],
      "metadata": {
        "id": "ZvNzvwXpAQ5a"
      },
      "execution_count": null,
      "outputs": []
    },
    {
      "cell_type": "code",
      "source": [
        "Dinesh = Client()\n",
        "Ramesh = Client()\n",
        "Seema = Client()\n",
        "Vijay = Client()"
      ],
      "metadata": {
        "id": "00siV109AS54"
      },
      "execution_count": null,
      "outputs": []
    },
    {
      "cell_type": "code",
      "source": [
        "t1 = Transaction(\n",
        " Dinesh,\n",
        " Ramesh.identity,\n",
        " 15.0\n",
        ")\n",
        "t1.sign_transaction()\n",
        "transactions.append(t1)\n",
        "t2 = Transaction(\n",
        " Dinesh,\n",
        " Seema.identity,\n",
        " 6.0\n",
        ")\n",
        "t2.sign_transaction()\n",
        "transactions.append(t2)\n",
        "t3 = Transaction(\n",
        " Ramesh,\n",
        " Vijay.identity,\n",
        " 2.0\n",
        ")\n",
        "t3.sign_transaction()\n",
        "transactions.append(t3)\n",
        "t4 = Transaction(\n",
        " Seema,\n",
        " Ramesh.identity,\n",
        " 4.0\n",
        ")\n",
        "t4.sign_transaction()\n",
        "transactions.append(t4)\n",
        "t5 = Transaction(\n",
        " Vijay,\n",
        " Seema.identity,\n",
        " 7.0\n",
        ")\n",
        "t5.sign_transaction()\n",
        "transactions.append(t5)\n",
        "t6 = Transaction(\n",
        " Ramesh,\n",
        " Seema.identity,\n",
        " 3.0\n",
        ")\n",
        "t6.sign_transaction()\n",
        "transactions.append(t6)\n",
        "t7 = Transaction(\n",
        " Seema,\n",
        " Dinesh.identity,\n",
        " 8.0\n",
        ")\n",
        "t7.sign_transaction()\n",
        "transactions.append(t7)\n",
        "t8 = Transaction(\n",
        " Seema,\n",
        " Ramesh.identity,\n",
        " 1.0\n",
        ")\n",
        "t8.sign_transaction()\n",
        "transactions.append(t8)\n",
        "t9 = Transaction(\n",
        " Vijay,\n",
        " Dinesh.identity,\n",
        " 5.0\n",
        ")\n",
        "t9.sign_transaction()\n",
        "transactions.append(t9)\n",
        "t10 = Transaction(\n",
        " Vijay,\n",
        " Ramesh.identity,\n",
        " 3.0\n",
        ")\n",
        "t10.sign_transaction()\n",
        "transactions.append(t10)\n",
        "for transaction in transactions:\n",
        " display_transaction (transaction)\n",
        " print ('--------------')\n",
        "\n",
        "\n",
        "\n"
      ],
      "metadata": {
        "colab": {
          "base_uri": "https://localhost:8080/"
        },
        "id": "AInQyoSUAVTy",
        "outputId": "486c4441-4b79-4505-bbe4-b2082238b994"
      },
      "execution_count": null,
      "outputs": [
        {
          "output_type": "stream",
          "name": "stdout",
          "text": [
            "sender: 30819f300d06092a864886f70d010101050003818d00308189028181009195e3f0dd36fc2865a7247354a5b997a832b55d222bb44bd31fd27d84f09a1dfa4f558b2a839309f1d3b412ff5887f82f150040934bef8b2c39887487d053bdd80d574d78d02bfb320a51a34c5a5f767d9c832855d7bc84f783fda7ae6e19f9cb670de11e4b8b492e85e3bbca45cd1e743e47ba9982d39e505cd0f4c57870a50203010001\n",
            "-----\n",
            "recipient: 30819f300d06092a864886f70d010101050003818d0030818902818100e9ef08816fe7a6cbc5aad4d973a0e33e9e57e042737bc74bc296c7b062f135312e9a3d7b2de3543df6919f5088ad521e5a73593346dc2539cc907c5a8fcf82a5998f33adfff1c95058aa91697c51b4ac580356e14935c2892b65afbe87dcaa57a0394ead439ca1df5251555015df579059b8963f78f56b61ef6acf5ea0e395dd0203010001\n",
            "-----\n",
            "value: 15.0\n",
            "-----\n",
            "time: 2023-07-05 12:22:52.969493\n",
            "-----\n",
            "--------------\n",
            "sender: 30819f300d06092a864886f70d010101050003818d00308189028181009195e3f0dd36fc2865a7247354a5b997a832b55d222bb44bd31fd27d84f09a1dfa4f558b2a839309f1d3b412ff5887f82f150040934bef8b2c39887487d053bdd80d574d78d02bfb320a51a34c5a5f767d9c832855d7bc84f783fda7ae6e19f9cb670de11e4b8b492e85e3bbca45cd1e743e47ba9982d39e505cd0f4c57870a50203010001\n",
            "-----\n",
            "recipient: 30819f300d06092a864886f70d010101050003818d0030818902818100e9ef08816fe7a6cbc5aad4d973a0e33e9e57e042737bc74bc296c7b062f135312e9a3d7b2de3543df6919f5088ad521e5a73593346dc2539cc907c5a8fcf82a5998f33adfff1c95058aa91697c51b4ac580356e14935c2892b65afbe87dcaa57a0394ead439ca1df5251555015df579059b8963f78f56b61ef6acf5ea0e395dd0203010001\n",
            "-----\n",
            "value: 15.0\n",
            "-----\n",
            "time: 2023-07-05 12:24:46.062732\n",
            "-----\n",
            "--------------\n",
            "sender: 30819f300d06092a864886f70d010101050003818d00308189028181009195e3f0dd36fc2865a7247354a5b997a832b55d222bb44bd31fd27d84f09a1dfa4f558b2a839309f1d3b412ff5887f82f150040934bef8b2c39887487d053bdd80d574d78d02bfb320a51a34c5a5f767d9c832855d7bc84f783fda7ae6e19f9cb670de11e4b8b492e85e3bbca45cd1e743e47ba9982d39e505cd0f4c57870a50203010001\n",
            "-----\n",
            "recipient: 30819f300d06092a864886f70d010101050003818d0030818902818100df2221045392021c126ad5b58a93565326b56b76a95bcf2bc37b2c92de483abc0a7fdab7ee27b14cbdfcb0f82b4e27d180b1bdd01ac23400d3b54c7a897077637f4c7bba3a332cc776628d79bb5140fd54e0d45cfffce5ce8aced595efe4fa4c179614b818ee5b33412e016ed4499fb1f9a7f23e4bf1d922af839c88dccc9cb30203010001\n",
            "-----\n",
            "value: 6.0\n",
            "-----\n",
            "time: 2023-07-05 12:24:46.065814\n",
            "-----\n",
            "--------------\n",
            "sender: 30819f300d06092a864886f70d010101050003818d0030818902818100e9ef08816fe7a6cbc5aad4d973a0e33e9e57e042737bc74bc296c7b062f135312e9a3d7b2de3543df6919f5088ad521e5a73593346dc2539cc907c5a8fcf82a5998f33adfff1c95058aa91697c51b4ac580356e14935c2892b65afbe87dcaa57a0394ead439ca1df5251555015df579059b8963f78f56b61ef6acf5ea0e395dd0203010001\n",
            "-----\n",
            "recipient: 30819f300d06092a864886f70d010101050003818d0030818902818100df37f2efadccedf1898dd12395efb77028a985d017fad24117c247535aad1ccf1f72d797348a97aabd2dce8eb10b2908d765af4a9217e372c7244bd92e02e97c4fadf842ed2880bae76a615116810f40c41cf001a73e2e7547a0ada9061d11e8a53d400363224d504f8b5e1537feb850df8bd4319c1dd7012d437694a49187f70203010001\n",
            "-----\n",
            "value: 2.0\n",
            "-----\n",
            "time: 2023-07-05 12:24:46.068713\n",
            "-----\n",
            "--------------\n",
            "sender: 30819f300d06092a864886f70d010101050003818d0030818902818100df2221045392021c126ad5b58a93565326b56b76a95bcf2bc37b2c92de483abc0a7fdab7ee27b14cbdfcb0f82b4e27d180b1bdd01ac23400d3b54c7a897077637f4c7bba3a332cc776628d79bb5140fd54e0d45cfffce5ce8aced595efe4fa4c179614b818ee5b33412e016ed4499fb1f9a7f23e4bf1d922af839c88dccc9cb30203010001\n",
            "-----\n",
            "recipient: 30819f300d06092a864886f70d010101050003818d0030818902818100e9ef08816fe7a6cbc5aad4d973a0e33e9e57e042737bc74bc296c7b062f135312e9a3d7b2de3543df6919f5088ad521e5a73593346dc2539cc907c5a8fcf82a5998f33adfff1c95058aa91697c51b4ac580356e14935c2892b65afbe87dcaa57a0394ead439ca1df5251555015df579059b8963f78f56b61ef6acf5ea0e395dd0203010001\n",
            "-----\n",
            "value: 4.0\n",
            "-----\n",
            "time: 2023-07-05 12:24:46.074469\n",
            "-----\n",
            "--------------\n",
            "sender: 30819f300d06092a864886f70d010101050003818d0030818902818100df37f2efadccedf1898dd12395efb77028a985d017fad24117c247535aad1ccf1f72d797348a97aabd2dce8eb10b2908d765af4a9217e372c7244bd92e02e97c4fadf842ed2880bae76a615116810f40c41cf001a73e2e7547a0ada9061d11e8a53d400363224d504f8b5e1537feb850df8bd4319c1dd7012d437694a49187f70203010001\n",
            "-----\n",
            "recipient: 30819f300d06092a864886f70d010101050003818d0030818902818100df2221045392021c126ad5b58a93565326b56b76a95bcf2bc37b2c92de483abc0a7fdab7ee27b14cbdfcb0f82b4e27d180b1bdd01ac23400d3b54c7a897077637f4c7bba3a332cc776628d79bb5140fd54e0d45cfffce5ce8aced595efe4fa4c179614b818ee5b33412e016ed4499fb1f9a7f23e4bf1d922af839c88dccc9cb30203010001\n",
            "-----\n",
            "value: 7.0\n",
            "-----\n",
            "time: 2023-07-05 12:24:46.079383\n",
            "-----\n",
            "--------------\n",
            "sender: 30819f300d06092a864886f70d010101050003818d0030818902818100e9ef08816fe7a6cbc5aad4d973a0e33e9e57e042737bc74bc296c7b062f135312e9a3d7b2de3543df6919f5088ad521e5a73593346dc2539cc907c5a8fcf82a5998f33adfff1c95058aa91697c51b4ac580356e14935c2892b65afbe87dcaa57a0394ead439ca1df5251555015df579059b8963f78f56b61ef6acf5ea0e395dd0203010001\n",
            "-----\n",
            "recipient: 30819f300d06092a864886f70d010101050003818d0030818902818100df2221045392021c126ad5b58a93565326b56b76a95bcf2bc37b2c92de483abc0a7fdab7ee27b14cbdfcb0f82b4e27d180b1bdd01ac23400d3b54c7a897077637f4c7bba3a332cc776628d79bb5140fd54e0d45cfffce5ce8aced595efe4fa4c179614b818ee5b33412e016ed4499fb1f9a7f23e4bf1d922af839c88dccc9cb30203010001\n",
            "-----\n",
            "value: 3.0\n",
            "-----\n",
            "time: 2023-07-05 12:24:46.082273\n",
            "-----\n",
            "--------------\n",
            "sender: 30819f300d06092a864886f70d010101050003818d0030818902818100df2221045392021c126ad5b58a93565326b56b76a95bcf2bc37b2c92de483abc0a7fdab7ee27b14cbdfcb0f82b4e27d180b1bdd01ac23400d3b54c7a897077637f4c7bba3a332cc776628d79bb5140fd54e0d45cfffce5ce8aced595efe4fa4c179614b818ee5b33412e016ed4499fb1f9a7f23e4bf1d922af839c88dccc9cb30203010001\n",
            "-----\n",
            "recipient: 30819f300d06092a864886f70d010101050003818d00308189028181009195e3f0dd36fc2865a7247354a5b997a832b55d222bb44bd31fd27d84f09a1dfa4f558b2a839309f1d3b412ff5887f82f150040934bef8b2c39887487d053bdd80d574d78d02bfb320a51a34c5a5f767d9c832855d7bc84f783fda7ae6e19f9cb670de11e4b8b492e85e3bbca45cd1e743e47ba9982d39e505cd0f4c57870a50203010001\n",
            "-----\n",
            "value: 8.0\n",
            "-----\n",
            "time: 2023-07-05 12:24:46.085292\n",
            "-----\n",
            "--------------\n",
            "sender: 30819f300d06092a864886f70d010101050003818d0030818902818100df2221045392021c126ad5b58a93565326b56b76a95bcf2bc37b2c92de483abc0a7fdab7ee27b14cbdfcb0f82b4e27d180b1bdd01ac23400d3b54c7a897077637f4c7bba3a332cc776628d79bb5140fd54e0d45cfffce5ce8aced595efe4fa4c179614b818ee5b33412e016ed4499fb1f9a7f23e4bf1d922af839c88dccc9cb30203010001\n",
            "-----\n",
            "recipient: 30819f300d06092a864886f70d010101050003818d0030818902818100e9ef08816fe7a6cbc5aad4d973a0e33e9e57e042737bc74bc296c7b062f135312e9a3d7b2de3543df6919f5088ad521e5a73593346dc2539cc907c5a8fcf82a5998f33adfff1c95058aa91697c51b4ac580356e14935c2892b65afbe87dcaa57a0394ead439ca1df5251555015df579059b8963f78f56b61ef6acf5ea0e395dd0203010001\n",
            "-----\n",
            "value: 1.0\n",
            "-----\n",
            "time: 2023-07-05 12:24:46.088161\n",
            "-----\n",
            "--------------\n",
            "sender: 30819f300d06092a864886f70d010101050003818d0030818902818100df37f2efadccedf1898dd12395efb77028a985d017fad24117c247535aad1ccf1f72d797348a97aabd2dce8eb10b2908d765af4a9217e372c7244bd92e02e97c4fadf842ed2880bae76a615116810f40c41cf001a73e2e7547a0ada9061d11e8a53d400363224d504f8b5e1537feb850df8bd4319c1dd7012d437694a49187f70203010001\n",
            "-----\n",
            "recipient: 30819f300d06092a864886f70d010101050003818d00308189028181009195e3f0dd36fc2865a7247354a5b997a832b55d222bb44bd31fd27d84f09a1dfa4f558b2a839309f1d3b412ff5887f82f150040934bef8b2c39887487d053bdd80d574d78d02bfb320a51a34c5a5f767d9c832855d7bc84f783fda7ae6e19f9cb670de11e4b8b492e85e3bbca45cd1e743e47ba9982d39e505cd0f4c57870a50203010001\n",
            "-----\n",
            "value: 5.0\n",
            "-----\n",
            "time: 2023-07-05 12:24:46.090984\n",
            "-----\n",
            "--------------\n",
            "sender: 30819f300d06092a864886f70d010101050003818d0030818902818100df37f2efadccedf1898dd12395efb77028a985d017fad24117c247535aad1ccf1f72d797348a97aabd2dce8eb10b2908d765af4a9217e372c7244bd92e02e97c4fadf842ed2880bae76a615116810f40c41cf001a73e2e7547a0ada9061d11e8a53d400363224d504f8b5e1537feb850df8bd4319c1dd7012d437694a49187f70203010001\n",
            "-----\n",
            "recipient: 30819f300d06092a864886f70d010101050003818d0030818902818100e9ef08816fe7a6cbc5aad4d973a0e33e9e57e042737bc74bc296c7b062f135312e9a3d7b2de3543df6919f5088ad521e5a73593346dc2539cc907c5a8fcf82a5998f33adfff1c95058aa91697c51b4ac580356e14935c2892b65afbe87dcaa57a0394ead439ca1df5251555015df579059b8963f78f56b61ef6acf5ea0e395dd0203010001\n",
            "-----\n",
            "value: 3.0\n",
            "-----\n",
            "time: 2023-07-05 12:24:46.093576\n",
            "-----\n",
            "--------------\n"
          ]
        }
      ]
    },
    {
      "cell_type": "code",
      "source": [
        "class Block:\n",
        "    def __init__(self):\n",
        "        self.verified_transactions = []\n",
        "        self.previous_block_hash = \"\"\n",
        "        self.Nonce = \"\"\n",
        "        last_block_hash = \"\""
      ],
      "metadata": {
        "id": "HSGhdXgLA4f-"
      },
      "execution_count": null,
      "outputs": []
    },
    {
      "cell_type": "code",
      "source": [
        "Dinesh = Client()"
      ],
      "metadata": {
        "id": "1WuQuepEBRlx"
      },
      "execution_count": null,
      "outputs": []
    },
    {
      "cell_type": "code",
      "source": [
        "t0 = Transaction (\n",
        " \"Genesis\",\n",
        " Dinesh.identity,\n",
        " 500.0\n",
        ")"
      ],
      "metadata": {
        "id": "pjrnJegRBS3h"
      },
      "execution_count": null,
      "outputs": []
    },
    {
      "cell_type": "code",
      "source": [
        "block0 = Block()"
      ],
      "metadata": {
        "id": "0RfyL-IYBVma"
      },
      "execution_count": null,
      "outputs": []
    },
    {
      "cell_type": "code",
      "source": [
        "block0.previous_block_hash = None\n",
        "Nonce = None\n",
        "block0.verified_transactions.append (t0)\n",
        "digest = hash (block0)\n",
        "last_block_hash = digest"
      ],
      "metadata": {
        "id": "U22WzrmZBX_D"
      },
      "execution_count": null,
      "outputs": []
    },
    {
      "cell_type": "code",
      "source": [
        "TPCoins = []"
      ],
      "metadata": {
        "id": "5HqREEv9BcSm"
      },
      "execution_count": null,
      "outputs": []
    },
    {
      "cell_type": "code",
      "source": [
        "def dump_blockchain (self):\n",
        "    print (\"Number of blocks in the chain: \" + str(len (self)))\n",
        "    for x in range (len(TPCoins)):\n",
        "        block_temp = TPCoins[x]\n",
        "        print (\"block # \" + str(x))\n",
        "    for transaction in block_temp.verified_transactions:\n",
        "        display_transaction (transaction)\n",
        "        print ('--------------')\n",
        "        print ('=====================================')\n",
        "TPCoins.append (block0)\n",
        "dump_blockchain(TPCoins)"
      ],
      "metadata": {
        "colab": {
          "base_uri": "https://localhost:8080/"
        },
        "id": "7JGMm9NnBeXb",
        "outputId": "65420064-95e4-4975-ba0b-973fdd33c64c"
      },
      "execution_count": null,
      "outputs": [
        {
          "output_type": "stream",
          "name": "stdout",
          "text": [
            "Number of blocks in the chain: 1\n",
            "block # 0\n",
            "sender: Genesis\n",
            "-----\n",
            "recipient: 30819f300d06092a864886f70d010101050003818d00308189028181008590434435a807a4df63ff1fbcc01b990c7d95c07eb6a0990cc7e2f3be83c0c9bbb56248519dbddce4432cc688901748f3bce084386de5a27b04e94d10f9a565a708188bcc361b9c6c79b478850ec17e4ead27e265f898eee921732211b95bafe589b664865d2535aa124b9e997e1513ec58fd0f1656c8df55f5fa698ae894b70203010001\n",
            "-----\n",
            "value: 500.0\n",
            "-----\n",
            "time: 2023-07-05 12:27:04.767399\n",
            "-----\n",
            "--------------\n",
            "=====================================\n"
          ]
        }
      ]
    },
    {
      "cell_type": "code",
      "source": [
        "def sha256(message):\n",
        "    return hashlib.sha256(message.encode('ascii')).hexdigest()\n",
        "def mine(message, difficulty=1):\n",
        "    assert difficulty >= 1\n",
        "    prefix = '1' * difficulty\n",
        "    for i in range(1000):\n",
        "        digest = sha256(str(hash(message)) + str(i))\n",
        "    if digest.startswith(prefix):\n",
        "        print (\"after \" + str(i) + \" iterations found nonce: \"+ digest)\n",
        "        return digest"
      ],
      "metadata": {
        "id": "9N0xn-2JBwve"
      },
      "execution_count": null,
      "outputs": []
    },
    {
      "cell_type": "code",
      "source": [
        "last_transaction_index = 0"
      ],
      "metadata": {
        "id": "rwisg8kSB5QN"
      },
      "execution_count": null,
      "outputs": []
    },
    {
      "cell_type": "code",
      "source": [
        "block = Block()\n",
        "for i in range(3):\n",
        "    temp_transaction = transactions[last_transaction_index]\n",
        "    block.verified_transactions.append (temp_transaction)\n"
      ],
      "metadata": {
        "id": "DFUxlrfgB7FJ"
      },
      "execution_count": null,
      "outputs": []
    },
    {
      "cell_type": "code",
      "source": [
        "last_transaction_index += 1\n",
        "mine (\"test message\", 2)"
      ],
      "metadata": {
        "id": "3GyMUNTMC5WX"
      },
      "execution_count": null,
      "outputs": []
    },
    {
      "cell_type": "code",
      "source": [
        "block.previous_block_hash = last_block_hash\n",
        "block.Nonce = mine (block, 2)\n",
        "digest = hash (block)\n",
        "TPCoins.append (block)\n",
        "last_block_hash = digest"
      ],
      "metadata": {
        "id": "8ppp6xMtDLeP"
      },
      "execution_count": null,
      "outputs": []
    },
    {
      "cell_type": "code",
      "source": [
        "block = Block()"
      ],
      "metadata": {
        "id": "3WGsRrkuB_aE"
      },
      "execution_count": null,
      "outputs": []
    },
    {
      "cell_type": "code",
      "source": [
        "for i in range(3):\n",
        " temp_transaction = transactions[last_transaction_index]\n",
        " # validate transaction\n",
        " # if valid\n",
        " block.verified_transactions.append (temp_transaction)\n",
        " last_transaction_index += 1\n",
        "block.previous_block_hash = last_block_hash\n",
        "block.Nonce = mine(block, 2)\n",
        "digest = hash (block)\n",
        "TPCoins.append (block)\n",
        "last_block_hash = digest"
      ],
      "metadata": {
        "id": "jZOwBUWODTBb"
      },
      "execution_count": null,
      "outputs": []
    },
    {
      "cell_type": "code",
      "source": [
        "block = Block()"
      ],
      "metadata": {
        "id": "O4GcTW-hDURn"
      },
      "execution_count": null,
      "outputs": []
    },
    {
      "cell_type": "code",
      "source": [
        "for i in range(3):\n",
        " temp_transaction = transactions[last_transaction_index]\n",
        " #display_transaction (temp_transaction)\n",
        " # validate transaction\n",
        " # if valid\n",
        " block.verified_transactions.append (temp_transaction)\n",
        " last_transaction_index += 1\n",
        "block.previous_block_hash = last_block_hash\n",
        "block.Nonce = mine (block, 2)\n",
        "digest = hash (block)\n",
        "TPCoins.append (block)\n",
        "last_block_hash = digest\n",
        "dump_blockchain(TPCoins)"
      ],
      "metadata": {
        "colab": {
          "base_uri": "https://localhost:8080/"
        },
        "id": "GvDhWbTvDWuQ",
        "outputId": "c6f4e5be-ff5e-4ce2-f7a8-eeefa59546be"
      },
      "execution_count": null,
      "outputs": [
        {
          "output_type": "stream",
          "name": "stdout",
          "text": [
            "Number of blocks in the chain: 4\n",
            "block # 0\n",
            "block # 1\n",
            "block # 2\n",
            "block # 3\n",
            "sender: 30819f300d06092a864886f70d010101050003818d0030818902818100df2221045392021c126ad5b58a93565326b56b76a95bcf2bc37b2c92de483abc0a7fdab7ee27b14cbdfcb0f82b4e27d180b1bdd01ac23400d3b54c7a897077637f4c7bba3a332cc776628d79bb5140fd54e0d45cfffce5ce8aced595efe4fa4c179614b818ee5b33412e016ed4499fb1f9a7f23e4bf1d922af839c88dccc9cb30203010001\n",
            "-----\n",
            "recipient: 30819f300d06092a864886f70d010101050003818d0030818902818100e9ef08816fe7a6cbc5aad4d973a0e33e9e57e042737bc74bc296c7b062f135312e9a3d7b2de3543df6919f5088ad521e5a73593346dc2539cc907c5a8fcf82a5998f33adfff1c95058aa91697c51b4ac580356e14935c2892b65afbe87dcaa57a0394ead439ca1df5251555015df579059b8963f78f56b61ef6acf5ea0e395dd0203010001\n",
            "-----\n",
            "value: 4.0\n",
            "-----\n",
            "time: 2023-07-05 12:24:46.074469\n",
            "-----\n",
            "--------------\n",
            "=====================================\n",
            "sender: 30819f300d06092a864886f70d010101050003818d0030818902818100df37f2efadccedf1898dd12395efb77028a985d017fad24117c247535aad1ccf1f72d797348a97aabd2dce8eb10b2908d765af4a9217e372c7244bd92e02e97c4fadf842ed2880bae76a615116810f40c41cf001a73e2e7547a0ada9061d11e8a53d400363224d504f8b5e1537feb850df8bd4319c1dd7012d437694a49187f70203010001\n",
            "-----\n",
            "recipient: 30819f300d06092a864886f70d010101050003818d0030818902818100df2221045392021c126ad5b58a93565326b56b76a95bcf2bc37b2c92de483abc0a7fdab7ee27b14cbdfcb0f82b4e27d180b1bdd01ac23400d3b54c7a897077637f4c7bba3a332cc776628d79bb5140fd54e0d45cfffce5ce8aced595efe4fa4c179614b818ee5b33412e016ed4499fb1f9a7f23e4bf1d922af839c88dccc9cb30203010001\n",
            "-----\n",
            "value: 7.0\n",
            "-----\n",
            "time: 2023-07-05 12:24:46.079383\n",
            "-----\n",
            "--------------\n",
            "=====================================\n",
            "sender: 30819f300d06092a864886f70d010101050003818d0030818902818100e9ef08816fe7a6cbc5aad4d973a0e33e9e57e042737bc74bc296c7b062f135312e9a3d7b2de3543df6919f5088ad521e5a73593346dc2539cc907c5a8fcf82a5998f33adfff1c95058aa91697c51b4ac580356e14935c2892b65afbe87dcaa57a0394ead439ca1df5251555015df579059b8963f78f56b61ef6acf5ea0e395dd0203010001\n",
            "-----\n",
            "recipient: 30819f300d06092a864886f70d010101050003818d0030818902818100df2221045392021c126ad5b58a93565326b56b76a95bcf2bc37b2c92de483abc0a7fdab7ee27b14cbdfcb0f82b4e27d180b1bdd01ac23400d3b54c7a897077637f4c7bba3a332cc776628d79bb5140fd54e0d45cfffce5ce8aced595efe4fa4c179614b818ee5b33412e016ed4499fb1f9a7f23e4bf1d922af839c88dccc9cb30203010001\n",
            "-----\n",
            "value: 3.0\n",
            "-----\n",
            "time: 2023-07-05 12:24:46.082273\n",
            "-----\n",
            "--------------\n",
            "=====================================\n"
          ]
        }
      ]
    }
  ]
}